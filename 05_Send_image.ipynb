{
 "cells": [
  {
   "cell_type": "code",
   "execution_count": 3,
   "id": "9c427989-2091-4916-a388-d1015ded029a",
   "metadata": {},
   "outputs": [],
   "source": [
    "my_image = './test/carro_manuel.jpg'\n",
    "my_route = 'http://licence-plate-workshop-git-plates-detection.apps.pilot.j61u.p1.openshiftapps.com'"
   ]
  },
  {
   "cell_type": "code",
   "execution_count": 4,
   "id": "462aae17-f230-4b94-bc50-dbd3683896f1",
   "metadata": {},
   "outputs": [
    {
     "name": "stdout",
     "output_type": "stream",
     "text": [
      "b'{\"prediction\":\"P406GXP\"}\\n'\n"
     ]
    }
   ],
   "source": [
    "import base64\n",
    "import requests\n",
    "from json import dumps\n",
    "\n",
    "with open(my_image, \"rb\") as image_file:\n",
    "    encoded_image = base64.b64encode(image_file.read()).decode('utf-8')\n",
    "content = {\"image\": encoded_image}\n",
    "json_data = dumps(content)\n",
    "\n",
    "headers = {\"Content-Type\" : \"application/json\"}\n",
    "\n",
    "r = requests.post(my_route + '/predictions', data=json_data, headers=headers)\n",
    "\n",
    "print(r.content)"
   ]
  },
  {
   "cell_type": "code",
   "execution_count": null,
   "id": "78cb8dac-edf9-4d44-8ca2-3e88d55cca96",
   "metadata": {},
   "outputs": [],
   "source": []
  }
 ],
 "metadata": {
  "kernelspec": {
   "display_name": "Python 3 (ipykernel)",
   "language": "python",
   "name": "python3"
  },
  "language_info": {
   "codemirror_mode": {
    "name": "ipython",
    "version": 3
   },
   "file_extension": ".py",
   "mimetype": "text/x-python",
   "name": "python",
   "nbconvert_exporter": "python",
   "pygments_lexer": "ipython3",
   "version": "3.8.6"
  }
 },
 "nbformat": 4,
 "nbformat_minor": 5
}
